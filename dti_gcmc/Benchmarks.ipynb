{
 "cells": [
  {
   "cell_type": "code",
   "execution_count": 1,
   "metadata": {},
   "outputs": [],
   "source": [
    "from __future__ import print_function\n",
    "from __future__ import division\n",
    "\n",
    "import pickle\n",
    "import numpy as np\n",
    "import scipy.sparse as sp\n",
    "\n",
    "import warnings\n",
    "warnings.filterwarnings('ignore')\n",
    "\n",
    "from pipeline import load_data_from_disk\n",
    "\n",
    "from time import time\n",
    "from sklearn.svm import SVC\n",
    "from sklearn.linear_model import LogisticRegression\n",
    "from sklearn.metrics import roc_auc_score\n",
    "from sklearn.tree import DecisionTreeClassifier\n",
    "from sklearn.ensemble import RandomForestClassifier\n",
    "from sklearn.model_selection import train_test_split, GridSearchCV, cross_val_score"
   ]
  },
  {
   "cell_type": "code",
   "execution_count": 2,
   "metadata": {},
   "outputs": [],
   "source": [
    "def run_benchmark(classifier):\n",
    "\t\"\"\" Utility function to run the a classifier\n",
    "\n",
    "\t\tParameters\n",
    "\t\t----------\n",
    "\t\tclf_data: Eg. ('dt', DecisionTreeClassifier())\n",
    "\t\"\"\"\n",
    "\n",
    "\tclf_name, clf = classifier\n",
    "\tinfo_str = \"Using \" + classifier_names[clf_name] + \".\"\n",
    "\tprint (info_str)\n",
    "\n",
    "\tif CV:\n",
    "\t\trun_classifier_cross_val(clf)\n",
    "\telse:\n",
    "\t\trun_classifier(clf)\n",
    "\n",
    "\n",
    "def run_classifier(clf):\n",
    "\t\"\"\" Run with classifier to test a single time\n",
    "\n",
    "\t\tParameters\n",
    "\t\t----------\n",
    "\t\tclf: sklearn classifier\n",
    "\t\"\"\"\n",
    "\tt0 = time()\n",
    "\tclf.fit(X_train, y_train)\n",
    "\tpred = clf.predict_proba(X_test)[:, 1]\n",
    "\tauc = roc_auc_score(y_test, pred)\n",
    "\n",
    "\tprint ('AUROC achieved =', auc)\n",
    "\tprint ('Time taken =', time() - t0, 's')\n",
    "\tprint ('')\n",
    "\n",
    "\n",
    "def run_classifier_cross_val(clf, k=5):\n",
    "\t\"\"\" Run with classifier for k-fold cross-validation.\n",
    "\t\t\n",
    "\t\tParameters\n",
    "\t\t----------\n",
    "\t\tclf: sklearn classifier\n",
    "\t\tk: number of cv folds\n",
    "\t\"\"\"\n",
    "\tt0 = time()\n",
    "\tscores = cross_val_score(clf, X, y, cv=k, scoring='roc_auc')\n",
    "\n",
    "\tprint ('Scores =', scores)\n",
    "\tprint ('Mean AUROC achieved =', np.mean(scores))\n",
    "\tprint ('Time taken =', time() - t0, 's')\n",
    "\tprint ('')"
   ]
  },
  {
   "cell_type": "code",
   "execution_count": 3,
   "metadata": {},
   "outputs": [],
   "source": [
    "# Associated names of classifiers\n",
    "classifier_names = {'dt': 'DecisionTreeClassifier',\n",
    "\t\t\t\t\t'rf': 'RandomForestClassifier',\n",
    "\t\t\t\t\t'lr': 'LogisticRegression',\n",
    "\t\t\t\t\t'svc': 'SupportVectorClassifier'}"
   ]
  },
  {
   "cell_type": "code",
   "execution_count": 5,
   "metadata": {},
   "outputs": [
    {
     "name": "stdout",
     "output_type": "stream",
     "text": [
      "Using dataset: data_2_small\n"
     ]
    }
   ],
   "source": [
    "# Hyperparameters\n",
    "CV = False\n",
    "DATASET = 'data_2_small'\n",
    "\n",
    "if CV:\n",
    "\tprint ('Using cross validation.')\n",
    "\n",
    "print ('Using dataset:', DATASET)"
   ]
  },
  {
   "cell_type": "code",
   "execution_count": 6,
   "metadata": {},
   "outputs": [
    {
     "name": "stdout",
     "output_type": "stream",
     "text": [
      "Loading data_2_small from disk...\n",
      "Done.\n",
      "Shape of X_train = (83847, 1757)\n",
      "Shape of y_train = (83847,)\n",
      "Shape of X_test = (20962, 1757)\n",
      "Shape of y_test = (20962,)\n",
      "\n",
      "Running benchmarks...\n",
      "\n",
      "Using RandomForestClassifier.\n",
      "AUROC achieved = 0.847541683991684\n",
      "Time taken = 11.7773928642 s\n",
      "\n",
      "Using LogisticRegression.\n",
      "AUROC achieved = 0.7978140332640333\n",
      "Time taken = 16.2753601074 s\n",
      "\n",
      "Done.\n"
     ]
    }
   ],
   "source": [
    "# Load data from disk and split\n",
    "X, y = load_data_from_disk(dataset=DATASET)\n",
    "X_train, X_test, y_train, y_test = \\\n",
    "\ttrain_test_split(X, y, stratify=y,\n",
    "\t\t\ttest_size=0.2, shuffle=True)\n",
    "\n",
    "print ('Shape of X_train =', X_train.shape)\n",
    "print ('Shape of y_train =', y_train.shape)\n",
    "print ('Shape of X_test =', X_test.shape)\n",
    "print ('Shape of y_test =', y_test.shape)\n",
    "print ('')\n",
    "\n",
    "print ('Running benchmarks...')\n",
    "print ('')\n",
    "\n",
    "# List of classifiers\n",
    "classifiers = list()\n",
    "# classifiers.append(('dt', DecisionTreeClassifier()))\n",
    "classifiers.append(('rf', RandomForestClassifier()))\n",
    "classifiers.append(('lr', LogisticRegression()))\n",
    "# classifiers.append(('svc', SVC()))\n",
    "\n",
    "# Run benchmarks\n",
    "for classifier in classifiers:\n",
    "\trun_benchmark(classifier)\n",
    "\n",
    "print ('Done.')"
   ]
  }
 ],
 "metadata": {
  "kernelspec": {
   "display_name": "Python 2",
   "language": "python",
   "name": "python2"
  },
  "language_info": {
   "codemirror_mode": {
    "name": "ipython",
    "version": 2
   },
   "file_extension": ".py",
   "mimetype": "text/x-python",
   "name": "python",
   "nbconvert_exporter": "python",
   "pygments_lexer": "ipython2",
   "version": "2.7.15rc1"
  }
 },
 "nbformat": 4,
 "nbformat_minor": 2
}
