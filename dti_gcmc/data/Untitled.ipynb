{
 "cells": [
  {
   "cell_type": "code",
   "execution_count": 1,
   "metadata": {},
   "outputs": [],
   "source": [
    "import pickle\n",
    "import numpy as np\n",
    "import scipy.sparse as sp\n",
    "from sklearn.neighbors import kneighbors_graph"
   ]
  },
  {
   "cell_type": "code",
   "execution_count": 2,
   "metadata": {},
   "outputs": [],
   "source": [
    "with open('dti_store/graph_2.pkl') as f:\n",
    "    graph = pickle.load(f)\n",
    "    \n",
    "num_users, num_items, u_nodes, v_nodes, ratings, u_features, v_features = graph\n",
    "net = np.vstack([u_nodes, v_nodes, ratings]).T"
   ]
  },
  {
   "cell_type": "code",
   "execution_count": 3,
   "metadata": {},
   "outputs": [
    {
     "name": "stdout",
     "output_type": "stream",
     "text": [
      "Creating k-NN graphs for users and items...\n",
      "Done.\n"
     ]
    }
   ],
   "source": [
    "print \"Creating k-NN graphs for users and items...\"\n",
    "u_features = u_features.todense()\n",
    "v_features = v_features.todense()\n",
    "\n",
    "k_nn_u = kneighbors_graph(u_features, n_neighbors=10, n_jobs=3)\n",
    "k_nn_v = kneighbors_graph(v_features, n_neighbors=10, n_jobs=3)\n",
    "print \"Done.\""
   ]
  },
  {
   "cell_type": "code",
   "execution_count": 4,
   "metadata": {},
   "outputs": [
    {
     "name": "stdout",
     "output_type": "stream",
     "text": [
      "Creating adjacency matrix...\n",
      "Done.\n"
     ]
    }
   ],
   "source": [
    "print \"Creating adjacency matrix...\"\n",
    "adj = np.zeros((num_users, num_items))\n",
    "for src, dst, w in net:\n",
    "    adj[src][dst] = w + 1\n",
    "print \"Done.\""
   ]
  },
  {
   "cell_type": "code",
   "execution_count": 18,
   "metadata": {},
   "outputs": [
    {
     "name": "stdout",
     "output_type": "stream",
     "text": [
      "Creating train and test adjacency matrices...\n",
      "Done.\n"
     ]
    }
   ],
   "source": [
    "print \"Creating train and test adjacency matrices...\"\n",
    "samples = np.vstack([np.where(adj)]).T\n",
    "\n",
    "pos, neg = list(), list()\n",
    "for samp in samples:\n",
    "    if adj[samp[0]][samp[1]] == 1.:\n",
    "        neg.append(samp)\n",
    "    elif adj[samp[0]][samp[1]] == 2.:\n",
    "        pos.append(samp)\n",
    "    else:\n",
    "        raise ValueError('Entry not pos or neg.')\n",
    "        \n",
    "pos = np.vstack(pos)\n",
    "neg = np.vstack(neg)\n",
    "\n",
    "np.random.shuffle(pos)\n",
    "np.random.shuffle(neg)\n",
    "\n",
    "pos_train = pos[:int(0.8*pos.shape[0])]\n",
    "pos_test = pos[int(0.8*pos.shape[0]):]\n",
    "\n",
    "neg_train = neg[:int(0.8*neg.shape[0])]\n",
    "neg_test = neg[int(0.8*neg.shape[0]):]\n",
    "\n",
    "train_set = np.concatenate([pos_train, neg_train], axis=0)\n",
    "test_set = np.concatenate([pos_test, neg_test], axis=0)\n",
    "\n",
    "np.random.shuffle(train_set)\n",
    "np.random.shuffle(test_set)\n",
    "\n",
    "train_adj = np.zeros((num_users, num_items))\n",
    "test_adj = np.zeros((num_users, num_items))\n",
    "\n",
    "for src, dst in train_set:\n",
    "    train_adj[src][dst] = 1.\n",
    "    \n",
    "for src, dst in test_set:\n",
    "    test_adj[src][dst] = 1.\n",
    "    \n",
    "print \"Done.\""
   ]
  },
  {
   "cell_type": "code",
   "execution_count": 19,
   "metadata": {},
   "outputs": [
    {
     "name": "stdout",
     "output_type": "stream",
     "text": [
      "Total samples in graph = 104809\n",
      "Total samples in train set = 83847\n",
      "Total samples in test set = 20962\n"
     ]
    }
   ],
   "source": [
    "print \"Total samples in graph =\", np.where(adj)[0].shape[0]\n",
    "print \"Total samples in train set =\", np.where(train_adj)[0].shape[0]\n",
    "print \"Total samples in test set =\", np.where(test_adj)[0].shape[0]"
   ]
  },
  {
   "cell_type": "code",
   "execution_count": 20,
   "metadata": {},
   "outputs": [],
   "source": [
    "with open('/home/vedang/Documents/Benchmarks/mgcnn/Data/dti.pkl', 'w') as f:\n",
    "    pickle.dump((adj, train_adj, test_adj, k_nn_u, k_nn_v), f)"
   ]
  },
  {
   "cell_type": "code",
   "execution_count": 21,
   "metadata": {},
   "outputs": [
    {
     "data": {
      "text/plain": [
       "(array([[0., 0., 0., ..., 0., 0., 1.],\n",
       "        [0., 0., 0., ..., 0., 0., 0.],\n",
       "        [0., 0., 0., ..., 0., 0., 0.],\n",
       "        ...,\n",
       "        [0., 1., 0., ..., 0., 0., 0.],\n",
       "        [0., 0., 0., ..., 0., 0., 0.],\n",
       "        [0., 0., 0., ..., 0., 0., 0.]]), array([[0., 0., 0., ..., 0., 0., 0.],\n",
       "        [0., 0., 0., ..., 0., 0., 0.],\n",
       "        [0., 0., 0., ..., 0., 0., 0.],\n",
       "        ...,\n",
       "        [0., 1., 0., ..., 0., 0., 0.],\n",
       "        [0., 0., 0., ..., 0., 0., 0.],\n",
       "        [0., 0., 0., ..., 0., 0., 0.]]), array([[0., 0., 0., ..., 0., 0., 1.],\n",
       "        [0., 0., 0., ..., 0., 0., 0.],\n",
       "        [0., 0., 0., ..., 0., 0., 0.],\n",
       "        ...,\n",
       "        [0., 0., 0., ..., 0., 0., 0.],\n",
       "        [0., 0., 0., ..., 0., 0., 0.],\n",
       "        [0., 0., 0., ..., 0., 0., 0.]]), <1862x1862 sparse matrix of type '<type 'numpy.float64'>'\n",
       " \twith 18620 stored elements in Compressed Sparse Row format>, <1554x1554 sparse matrix of type '<type 'numpy.float64'>'\n",
       " \twith 15540 stored elements in Compressed Sparse Row format>)"
      ]
     },
     "execution_count": 21,
     "metadata": {},
     "output_type": "execute_result"
    }
   ],
   "source": [
    "adj, train_adj, test_adj, k_nn_u, k_nn_v"
   ]
  }
 ],
 "metadata": {
  "kernelspec": {
   "display_name": "Python 2",
   "language": "python",
   "name": "python2"
  },
  "language_info": {
   "codemirror_mode": {
    "name": "ipython",
    "version": 2
   },
   "file_extension": ".py",
   "mimetype": "text/x-python",
   "name": "python",
   "nbconvert_exporter": "python",
   "pygments_lexer": "ipython2",
   "version": "2.7.15rc1"
  }
 },
 "nbformat": 4,
 "nbformat_minor": 2
}
